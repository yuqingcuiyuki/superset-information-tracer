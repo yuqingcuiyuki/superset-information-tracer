{
  "nbformat": 4,
  "nbformat_minor": 0,
  "metadata": {
    "colab": {
      "provenance": [],
      "include_colab_link": true
    },
    "kernelspec": {
      "name": "python3",
      "display_name": "Python 3"
    },
    "language_info": {
      "name": "python"
    }
  },
  "cells": [
    {
      "cell_type": "markdown",
      "metadata": {
        "id": "view-in-github",
        "colab_type": "text"
      },
      "source": [
        "<a href=\"https://colab.research.google.com/github/zhouhanc/superset-information-tracer/blob/main/test.ipynb\" target=\"_parent\"><img src=\"https://colab.research.google.com/assets/colab-badge.svg\" alt=\"Open In Colab\"/></a>"
      ]
    },
    {
      "cell_type": "code",
      "execution_count": null,
      "metadata": {
        "id": "kMI5cz00_k3B"
      },
      "outputs": [],
      "source": [
        "# init commit\n",
        "# init commit\n",
        "import os\n",
        "\n",
        "def test():\n",
        "  with open(os.path.expanduser('~/infotracer_token.txt'), 'r') as f:\n",
        "    your_token = f.read()\n",
        "  print(your_token)\n",
        "  return\n",
        "\n",
        "test()\n",
        "\n",
        "# make an edit, commit change\n",
        "\n",
        "# make an edit, commit change"
      ]
    },
    {
      "cell_type": "code",
      "source": [],
      "metadata": {
        "id": "2HHdFh7pRzCt"
      },
      "execution_count": null,
      "outputs": []
    }
  ]
}